{
 "cells": [
  {
   "cell_type": "markdown",
   "id": "aa13e3f7-b2c9-4a0c-ba7c-289acee30f9c",
   "metadata": {},
   "source": [
    "## Parsing FAIR evaluation metrics"
   ]
  },
  {
   "cell_type": "code",
   "execution_count": 1,
   "id": "4fb53978-2683-43e7-8f6d-8eadcfa4705e",
   "metadata": {},
   "outputs": [],
   "source": [
    "import pandas as pd\n",
    "import json\n",
    "import re\n",
    "import requests"
   ]
  },
  {
   "cell_type": "code",
   "execution_count": 2,
   "id": "e8f400db-9f6c-4cc5-9d15-e31d68273e82",
   "metadata": {},
   "outputs": [],
   "source": [
    "# # Function to fetch fair evaluations\n",
    "# def fetch_fair_evaluation(doi):\n",
    "#     url = \"https://api.fair-enough.semanticscience.org/evaluations\"\n",
    "#     headers = {\n",
    "#         \"accept\": \"application/json\",\n",
    "#         \"Content-Type\": \"application/json\"\n",
    "#     }\n",
    "#     data = {\n",
    "#         \"subject\": doi,\n",
    "#         \"collection\": \"fair-enough-metadata\"\n",
    "#     }\n",
    "#     response = requests.post(url, headers=headers, json=data)\n",
    "    \n",
    "#     if response.status_code != 200:\n",
    "#         print(f\"Failed to fetch data for DOI: {doi}. Status code: {response.status_code}\")\n",
    "#         return None  # Return None for failed requests"
   ]
  },
  {
   "cell_type": "markdown",
   "id": "6b88d8ec-6220-4919-8e67-63dd27515bb4",
   "metadata": {},
   "source": [
    "### from files"
   ]
  },
  {
   "cell_type": "markdown",
   "id": "e7f38952-9ee0-4610-abb6-e9f8c1ad56de",
   "metadata": {},
   "source": [
    "|DOI | Example | File Name |\n",
    "|---|---|---|\n",
    "| https://doi.org/10.3233/FAIA200871 | Example 1: Publication metadata | fair_metrics_1_publication.json |\n",
    "| https://doi.org/10.1145/3184558.3191543 | Example 2: Publication metadata  | fair_metrics_2_publication.json |\n",
    "|https://doi.org/10.5281/zenodo.8148685| Example 3: Software metadata | fair_metrics_3_software.json |\n",
    "|https://doi.org/10.34894/Q80QUE| Example 4: Dataset metadata | fair_metrics_4_dataset.json |\n",
    "\n",
    "\n"
   ]
  },
  {
   "cell_type": "code",
   "execution_count": 3,
   "id": "12d6b86e-fb39-49b4-9a53-5f1056e707af",
   "metadata": {},
   "outputs": [],
   "source": [
    "# Load the JSON data from the file\n",
    "with open(\"data_sample/fair_metrics_1_publication.json\", \"r\") as file:\n",
    "    data_sample = json.load(file)"
   ]
  },
  {
   "cell_type": "code",
   "execution_count": 4,
   "id": "20eeb91f-8f9b-4004-ab10-c551d22666ff",
   "metadata": {},
   "outputs": [],
   "source": [
    "attributes = [\n",
    "    \"https://w3id.org/fair-enough/metrics/tests/f1-metadata-identifier-persistent\",\n",
    "    \"https://w3id.org/fair-enough/metrics/tests/f1-metadata-identifier-unique\",\n",
    "    \"https://w3id.org/fair-enough/metrics/tests/a1-metadata-authorization\",\n",
    "    \"https://w3id.org/fair-enough/metrics/tests/a1-metadata-protocol\",\n",
    "    \"https://w3id.org/fair-enough/metrics/tests/f2-structured-metadata\",\n",
    "    \"https://w3id.org/fair-enough/metrics/tests/f1-data-identifier-persistent\",\n",
    "    \"https://w3id.org/fair-enough/metrics/tests/f3-metadata-identifier-in-metadata\",\n",
    "    \"https://w3id.org/fair-enough/metrics/tests/i3-metadata-contains-outward-links\",\n",
    "    \"https://w3id.org/fair-enough/metrics/tests/r1-includes-license\",\n",
    "    \"https://w3id.org/fair-enough/metrics/tests/f2-grounded-metadata\",\n",
    "    \"https://w3id.org/fair-enough/metrics/tests/a1-data-protocol\",\n",
    "    \"https://w3id.org/fair-enough/metrics/tests/a1-data-authorization\",\n",
    "    \"https://w3id.org/fair-enough/metrics/tests/a2-metadata-persistent\",\n",
    "    \"https://w3id.org/fair-enough/metrics/tests/f3-data-identifier-in-metadata\",\n",
    "    \"https://w3id.org/fair-enough/metrics/tests/i1-data-knowledge-representation-structured\",\n",
    "    \"https://w3id.org/fair-enough/metrics/tests/i1-metadata-knowledge-representation-structured\",\n",
    "    \"https://w3id.org/fair-enough/metrics/tests/f4-searchable\",\n",
    "    \"https://w3id.org/fair-enough/metrics/tests/i1-data-knowledge-representation-semantic\",\n",
    "    \"https://w3id.org/fair-enough/metrics/tests/i2-fair-vocabularies-known\",\n",
    "    \"https://w3id.org/fair-enough/metrics/tests/i1-metadata-knowledge-representation-semantic\",\n",
    "    \"https://w3id.org/fair-enough/metrics/tests/r1-includes-standard-license\",\n",
    "    \"https://w3id.org/fair-enough/metrics/tests/i2-fair-vocabularies-resolve\"\n",
    "]\n",
    "\n",
    "rows = []"
   ]
  },
  {
   "cell_type": "code",
   "execution_count": 5,
   "id": "59e06807-64e8-4168-8eff-846d8f8e2913",
   "metadata": {},
   "outputs": [],
   "source": [
    "for attribute in attributes:\n",
    "    metric_results = data_sample[\"contains\"].get(attribute, [])\n",
    "    if not metric_results:\n",
    "        continue\n",
    "    \n",
    "    metric_result = metric_results[0]\n",
    "    value = metric_result.get(\"http://semanticscience.org/resource/SIO_000300\", [{}])[0].get(\"@value\", None)\n",
    "    comment = metric_result.get(\"http://schema.org/comment\", [{}])[0].get(\"@value\", None)\n",
    "\n",
    "    # Extracting the last prompt from the comment\n",
    "    if comment:\n",
    "        matches = re.findall(r\"(INFO|SUCCESS|FAILURE): \\[\\d{4}-\\d{2}-\\d{2}T\\d{2}:\\d{2}:\\d{2}\\] .+\", comment)\n",
    "        if matches:\n",
    "            comment = matches[-1]  # Taking the last match\n",
    "\n",
    "    # Build each row\n",
    "    rows.append({\n",
    "        \"_id\": data_sample[\"_id\"],\n",
    "        \"subject\": data_sample[\"subject\"],\n",
    "        \"created_at\": data_sample[\"created_at\"],\n",
    "        \"name\": data_sample[\"name\"],\n",
    "        \"fair_metric\": attribute.split(\"/\")[-1],  # Get the last part of the URL for a cleaner metric name\n",
    "        \"value\": value,\n",
    "        \"comment\": comment\n",
    "    })\n",
    "\n",
    "# Convert rows to DataFrame\n",
    "df = pd.DataFrame(rows)\n"
   ]
  },
  {
   "cell_type": "code",
   "execution_count": 6,
   "id": "77eb4aea-9a83-46e9-8d14-889247862c97",
   "metadata": {},
   "outputs": [
    {
     "data": {
      "text/html": [
       "<div>\n",
       "<style scoped>\n",
       "    .dataframe tbody tr th:only-of-type {\n",
       "        vertical-align: middle;\n",
       "    }\n",
       "\n",
       "    .dataframe tbody tr th {\n",
       "        vertical-align: top;\n",
       "    }\n",
       "\n",
       "    .dataframe thead th {\n",
       "        text-align: right;\n",
       "    }\n",
       "</style>\n",
       "<table border=\"1\" class=\"dataframe\">\n",
       "  <thead>\n",
       "    <tr style=\"text-align: right;\">\n",
       "      <th></th>\n",
       "      <th>_id</th>\n",
       "      <th>subject</th>\n",
       "      <th>created_at</th>\n",
       "      <th>name</th>\n",
       "      <th>fair_metric</th>\n",
       "      <th>value</th>\n",
       "      <th>comment</th>\n",
       "    </tr>\n",
       "  </thead>\n",
       "  <tbody>\n",
       "    <tr>\n",
       "      <th>0</th>\n",
       "      <td>01d0b632dfc56a13da4a6bb5886b6862e31d03fa</td>\n",
       "      <td>https://doi.org/10.3233/FAIA200871</td>\n",
       "      <td>2023-09-03T10:22:07</td>\n",
       "      <td>Evaluation of https://doi.org/10.3233/FAIA200871</td>\n",
       "      <td>f1-metadata-identifier-persistent</td>\n",
       "      <td>1</td>\n",
       "      <td>SUCCESS</td>\n",
       "    </tr>\n",
       "    <tr>\n",
       "      <th>1</th>\n",
       "      <td>01d0b632dfc56a13da4a6bb5886b6862e31d03fa</td>\n",
       "      <td>https://doi.org/10.3233/FAIA200871</td>\n",
       "      <td>2023-09-03T10:22:07</td>\n",
       "      <td>Evaluation of https://doi.org/10.3233/FAIA200871</td>\n",
       "      <td>f1-metadata-identifier-unique</td>\n",
       "      <td>1</td>\n",
       "      <td>SUCCESS</td>\n",
       "    </tr>\n",
       "    <tr>\n",
       "      <th>2</th>\n",
       "      <td>01d0b632dfc56a13da4a6bb5886b6862e31d03fa</td>\n",
       "      <td>https://doi.org/10.3233/FAIA200871</td>\n",
       "      <td>2023-09-03T10:22:07</td>\n",
       "      <td>Evaluation of https://doi.org/10.3233/FAIA200871</td>\n",
       "      <td>a1-metadata-authorization</td>\n",
       "      <td>1</td>\n",
       "      <td>SUCCESS</td>\n",
       "    </tr>\n",
       "    <tr>\n",
       "      <th>3</th>\n",
       "      <td>01d0b632dfc56a13da4a6bb5886b6862e31d03fa</td>\n",
       "      <td>https://doi.org/10.3233/FAIA200871</td>\n",
       "      <td>2023-09-03T10:22:07</td>\n",
       "      <td>Evaluation of https://doi.org/10.3233/FAIA200871</td>\n",
       "      <td>a1-metadata-protocol</td>\n",
       "      <td>1</td>\n",
       "      <td>INFO</td>\n",
       "    </tr>\n",
       "    <tr>\n",
       "      <th>4</th>\n",
       "      <td>01d0b632dfc56a13da4a6bb5886b6862e31d03fa</td>\n",
       "      <td>https://doi.org/10.3233/FAIA200871</td>\n",
       "      <td>2023-09-03T10:22:07</td>\n",
       "      <td>Evaluation of https://doi.org/10.3233/FAIA200871</td>\n",
       "      <td>f2-structured-metadata</td>\n",
       "      <td>1</td>\n",
       "      <td>SUCCESS</td>\n",
       "    </tr>\n",
       "  </tbody>\n",
       "</table>\n",
       "</div>"
      ],
      "text/plain": [
       "                                        _id  \\\n",
       "0  01d0b632dfc56a13da4a6bb5886b6862e31d03fa   \n",
       "1  01d0b632dfc56a13da4a6bb5886b6862e31d03fa   \n",
       "2  01d0b632dfc56a13da4a6bb5886b6862e31d03fa   \n",
       "3  01d0b632dfc56a13da4a6bb5886b6862e31d03fa   \n",
       "4  01d0b632dfc56a13da4a6bb5886b6862e31d03fa   \n",
       "\n",
       "                              subject           created_at  \\\n",
       "0  https://doi.org/10.3233/FAIA200871  2023-09-03T10:22:07   \n",
       "1  https://doi.org/10.3233/FAIA200871  2023-09-03T10:22:07   \n",
       "2  https://doi.org/10.3233/FAIA200871  2023-09-03T10:22:07   \n",
       "3  https://doi.org/10.3233/FAIA200871  2023-09-03T10:22:07   \n",
       "4  https://doi.org/10.3233/FAIA200871  2023-09-03T10:22:07   \n",
       "\n",
       "                                               name  \\\n",
       "0  Evaluation of https://doi.org/10.3233/FAIA200871   \n",
       "1  Evaluation of https://doi.org/10.3233/FAIA200871   \n",
       "2  Evaluation of https://doi.org/10.3233/FAIA200871   \n",
       "3  Evaluation of https://doi.org/10.3233/FAIA200871   \n",
       "4  Evaluation of https://doi.org/10.3233/FAIA200871   \n",
       "\n",
       "                         fair_metric  value  comment  \n",
       "0  f1-metadata-identifier-persistent      1  SUCCESS  \n",
       "1      f1-metadata-identifier-unique      1  SUCCESS  \n",
       "2          a1-metadata-authorization      1  SUCCESS  \n",
       "3               a1-metadata-protocol      1     INFO  \n",
       "4             f2-structured-metadata      1  SUCCESS  "
      ]
     },
     "execution_count": 6,
     "metadata": {},
     "output_type": "execute_result"
    }
   ],
   "source": [
    "df.head()"
   ]
  },
  {
   "cell_type": "code",
   "execution_count": 7,
   "id": "65d04091-c52b-4e02-a0d3-0f9f84a1f080",
   "metadata": {},
   "outputs": [
    {
     "name": "stderr",
     "output_type": "stream",
     "text": [
      "/var/folders/s8/hh5hqvzj7szdjc24hlsbn00h0000gn/T/ipykernel_57242/1606289492.py:1: FutureWarning: As the xlwt package is no longer maintained, the xlwt engine will be removed in a future version of pandas. This is the only engine in pandas that supports writing in the xls format. Install openpyxl and write to an xlsx file instead. You can set the option io.excel.xls.writer to 'xlwt' to silence this warning. While this option is deprecated and will also raise a warning, it can be globally set and the warning suppressed.\n",
      "  df.to_excel(\"FAIR_metrics_report.xls\")\n"
     ]
    }
   ],
   "source": [
    "df.to_excel(\"FAIR_metrics_report.xls\")"
   ]
  }
 ],
 "metadata": {
  "kernelspec": {
   "display_name": "Python 3 (ipykernel)",
   "language": "python",
   "name": "python3"
  },
  "language_info": {
   "codemirror_mode": {
    "name": "ipython",
    "version": 3
   },
   "file_extension": ".py",
   "mimetype": "text/x-python",
   "name": "python",
   "nbconvert_exporter": "python",
   "pygments_lexer": "ipython3",
   "version": "3.9.13"
  }
 },
 "nbformat": 4,
 "nbformat_minor": 5
}
